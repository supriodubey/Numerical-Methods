{
 "cells": [
  {
   "cell_type": "markdown",
   "id": "a50f8323",
   "metadata": {},
   "source": [
    "## Gauss Elimination"
   ]
  },
  {
   "cell_type": "code",
   "execution_count": 10,
   "id": "cd8bd342",
   "metadata": {},
   "outputs": [],
   "source": [
    "import numpy as np\n"
   ]
  },
  {
   "cell_type": "markdown",
   "id": "7ce0a070",
   "metadata": {},
   "source": [
    "Defining Ax=B"
   ]
  },
  {
   "cell_type": "code",
   "execution_count": 11,
   "id": "6ef4f90f",
   "metadata": {},
   "outputs": [],
   "source": [
    "# a =np.array([[2.,1.,4.,1.],[3.,4.,-1.,-1.],[1.,-4.,1.,5.],[2.,-2.,1.,3.]])\n",
    "# b= np.array([-4.,3.,9.,7.])\n",
    "# x = np.zeros(4,float)\n",
    "# print('A is\\n',a)\n",
    "# print('B is\\n',b)\n",
    "# # print(a[3,3])"
   ]
  },
  {
   "cell_type": "code",
   "execution_count": 56,
   "id": "8df0bf32",
   "metadata": {},
   "outputs": [],
   "source": [
    "def gauss_elimination(a,b):\n",
    "    n = len(b)\n",
    "    x = np.zeros(n,float)\n",
    "\n",
    "    for i in range(n):\n",
    "\n",
    "        temp = a[i,i]\n",
    "        a[i,:]/= temp\n",
    "        b[i]/= temp\n",
    "       \n",
    "        for j in range(i+1,n):\n",
    "\n",
    "            temp = a[j,i]\n",
    "            a[j,:]-=temp*a[i,:]\n",
    "            b[j]-=temp*b[i]\n",
    "        print(a)\n",
    "        print(b)\n",
    "    \n",
    "    for i in range(n-1,-1,-1):\n",
    "\n",
    "        x[i] = b[i]\n",
    "        \n",
    "        for j in range(n-1,i,-1):\n",
    " \n",
    "            x[i]-=a[i][j]*x[j]\n",
    "\n",
    "    return x"
   ]
  },
  {
   "cell_type": "code",
   "execution_count": 58,
   "id": "cc85e7fc",
   "metadata": {},
   "outputs": [
    {
     "name": "stdout",
     "output_type": "stream",
     "text": [
      "[[ 1.   0.5  2.   0.5]\n",
      " [ 0.   2.5 -7.  -2.5]\n",
      " [ 0.  -4.5 -1.   4.5]\n",
      " [ 0.  -3.  -3.   2. ]]\n",
      "[-2.  9. 11. 11.]\n",
      "[[  1.    0.5   2.    0.5]\n",
      " [  0.    1.   -2.8  -1. ]\n",
      " [  0.    0.  -13.6   0. ]\n",
      " [  0.    0.  -11.4  -1. ]]\n",
      "[-2.   3.6 27.2 21.8]\n",
      "[[ 1.   0.5  2.   0.5]\n",
      " [ 0.   1.  -2.8 -1. ]\n",
      " [-0.  -0.   1.  -0. ]\n",
      " [ 0.   0.   0.  -1. ]]\n",
      "[-2.   3.6 -2.  -1. ]\n",
      "[[ 1.   0.5  2.   0.5]\n",
      " [ 0.   1.  -2.8 -1. ]\n",
      " [-0.  -0.   1.  -0. ]\n",
      " [-0.  -0.  -0.   1. ]]\n",
      "[-2.   3.6 -2.   1. ]\n",
      "The result is:\n",
      " [ 2. -1. -2.  1.]\n"
     ]
    }
   ],
   "source": [
    "a =np.array([[2.,1.,4.,1.],[3.,4.,-1.,-1.],[1.,-4.,1.,5.],[2.,-2.,1.,3.]])\n",
    "b= np.array([-4.,3.,9.,7.])\n",
    "x = gauss_elimination(a,b)\n",
    "print(\"The result is:\\n\",x)"
   ]
  },
  {
   "cell_type": "markdown",
   "id": "4b248788",
   "metadata": {},
   "source": [
    "### Using predefined function"
   ]
  },
  {
   "cell_type": "code",
   "execution_count": 5,
   "id": "7f0c89d4",
   "metadata": {},
   "outputs": [
    {
     "name": "stdout",
     "output_type": "stream",
     "text": [
      "[ 2. -1. -2.  1.]\n"
     ]
    }
   ],
   "source": [
    "from numpy.linalg import solve\n",
    "X =solve(a,b)\n",
    "print(X)\n"
   ]
  }
 ],
 "metadata": {
  "kernelspec": {
   "display_name": "Python 3 (ipykernel)",
   "language": "python",
   "name": "python3"
  },
  "language_info": {
   "codemirror_mode": {
    "name": "ipython",
    "version": 3
   },
   "file_extension": ".py",
   "mimetype": "text/x-python",
   "name": "python",
   "nbconvert_exporter": "python",
   "pygments_lexer": "ipython3",
   "version": "3.10.6"
  }
 },
 "nbformat": 4,
 "nbformat_minor": 5
}
