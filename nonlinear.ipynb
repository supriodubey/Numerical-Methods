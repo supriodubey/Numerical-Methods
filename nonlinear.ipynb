{
 "cells": [
  {
   "cell_type": "markdown",
   "id": "28b1626e",
   "metadata": {},
   "source": [
    "## Non-linear equations\n"
   ]
  },
  {
   "cell_type": "code",
   "execution_count": 201,
   "id": "13fce220",
   "metadata": {},
   "outputs": [],
   "source": [
    "import numpy as np\n"
   ]
  },
  {
   "cell_type": "markdown",
   "id": "4156175d",
   "metadata": {},
   "source": [
    "### Eccenntric Anomaly Function"
   ]
  },
  {
   "cell_type": "code",
   "execution_count": 202,
   "id": "2d2dec83",
   "metadata": {},
   "outputs": [],
   "source": [
    "def func(x,F,ecc):\n",
    "#     E_old = E\n",
    "    T = F-x+(ecc*np.sin(x))\n",
    "#     print('T',T)\n",
    "    return T"
   ]
  },
  {
   "cell_type": "markdown",
   "id": "7da0348a",
   "metadata": {},
   "source": [
    "### Bisection Method "
   ]
  },
  {
   "cell_type": "code",
   "execution_count": 203,
   "id": "c1a90dc6",
   "metadata": {},
   "outputs": [],
   "source": [
    "def bisectionmethod(x1,x2,F= np.pi/3,ecc=0.1):\n",
    "        e=1e-6\n",
    "        \n",
    "        if np.sign(func(x1,F,ecc))!= np.sign(func(x2,F,ecc)):\n",
    "            while(abs(x1-x2) > e):\n",
    "                x_mid = 0.5*(x1+x2)\n",
    "\n",
    "                if np.sign(func(x_mid,F,ecc))== np.sign(func(x1,F,ecc)):\n",
    "\n",
    "                    x1 = x_mid \n",
    "                elif(np.sign(func(x_mid,F,ecc))== np.sign(func(x2,F,ecc))):\n",
    "\n",
    "                    x2 = x_mid\n",
    "\n",
    "            return x_mid       \n",
    "        else:\n",
    "            print(\"haha other method required you are fucked\")\n",
    "            \n",
    "        "
   ]
  },
  {
   "cell_type": "markdown",
   "id": "cf3f6674",
   "metadata": {},
   "source": [
    "### Newton-Raphson"
   ]
  },
  {
   "cell_type": "code",
   "execution_count": 204,
   "id": "89930dbb",
   "metadata": {},
   "outputs": [],
   "source": [
    "def derivative(x,F,ecc):\n",
    "    h =1e-6\n",
    "    d=((func((x+(h/2)),F,ecc)-func((x-(h/2)),F,ecc))/h)\n",
    "#     print(d)\n",
    "    return(d)\n",
    "    \n",
    "def newtonraphson(x1,x2,F= np.pi/3,ecc=0.1,e =1e-6):\n",
    "    while(abs(x1-x2) > e):\n",
    "        x1=x2\n",
    "        x2 = x1 - (func(x1,F,ecc)/derivative(x1,F,ecc))\n",
    "        print(x2)\n",
    "    return x2\n",
    "                   \n",
    "        \n",
    "    "
   ]
  },
  {
   "cell_type": "code",
   "execution_count": 205,
   "id": "ebc5c3af",
   "metadata": {},
   "outputs": [
    {
     "name": "stdout",
     "output_type": "stream",
     "text": [
      "1.899121880531311\n"
     ]
    }
   ],
   "source": [
    "print(bisectionmethod(1,8,np.pi/3,0.9))\n"
   ]
  },
  {
   "cell_type": "code",
   "execution_count": 206,
   "id": "20167007",
   "metadata": {},
   "outputs": [
    {
     "name": "stdout",
     "output_type": "stream",
     "text": [
      "4.49145866980186\n",
      "2.630494281427192\n",
      "3.163450748870888\n",
      "3.1415910045460422\n",
      "3.141592653589793\n",
      "3.141592653589793\n",
      "3.141592653589793\n"
     ]
    }
   ],
   "source": [
    "print(newtonraphson(1,8,np.pi,0.9))"
   ]
  }
 ],
 "metadata": {
  "kernelspec": {
   "display_name": "Python 3 (ipykernel)",
   "language": "python",
   "name": "python3"
  },
  "language_info": {
   "codemirror_mode": {
    "name": "ipython",
    "version": 3
   },
   "file_extension": ".py",
   "mimetype": "text/x-python",
   "name": "python",
   "nbconvert_exporter": "python",
   "pygments_lexer": "ipython3",
   "version": "3.10.6"
  }
 },
 "nbformat": 4,
 "nbformat_minor": 5
}
