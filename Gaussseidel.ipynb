{
 "cells": [
  {
   "cell_type": "markdown",
   "id": "26034e8d",
   "metadata": {},
   "source": [
    "### Gauss Seidel\n",
    "- here we will right a code for gauss seidel.\n",
    "\n",
    "Given the three equation:\n",
    "\n",
    "4x + y + 2z = 4<br>\n",
    "3x + 5y + z = 7<br>\n",
    "x + y + 3z = 3<br>\n",
    "First we assume that the solution of given equation is\n",
    "\n",
    "(0,0,0)\n",
    "Then first we put value of y and z in equation 1 and get value of x and update the value of x as\n",
    "\n",
    "(x1,0,0)\n",
    "Now, putting the updated value of x that is x1 and z=0 in equation 2 to get y1 and then updating our solution as\n",
    "\n",
    "(x1,y1,0)\n",
    "Then, at last putting x1 and y1 in equation 3 to get z1 and updating our solution as\n",
    "\n",
    "(x1,y1,z1)"
   ]
  },
  {
   "cell_type": "code",
   "execution_count": 17,
   "id": "13dc1f84",
   "metadata": {},
   "outputs": [],
   "source": [
    "import numpy as np\n",
    "import numpy.linalg as npl\n"
   ]
  },
  {
   "cell_type": "code",
   "execution_count": 66,
   "id": "4383e563",
   "metadata": {},
   "outputs": [],
   "source": [
    "def gauss_seidel(a,b,x):\n",
    "    n = len(b)\n",
    "    iteration = 1e4\n",
    "    tolerance = 1e-8 \n",
    "    t=0\n",
    "    print(a)\n",
    "    print(b)\n",
    "    while(t< iteration):\n",
    "        xold=np.copy(x)\n",
    "        for i in range(n):\n",
    "            \n",
    "            b1 = b[i]\n",
    "            for j in range(n):\n",
    "                if i!=j:\n",
    "                    b1-=a[i,j]*x[j]\n",
    "            x[i]=b1/a[i,i]\n",
    "        test=abs(npl.norm(x)-npl.norm(xold)) #teke delta norm for an idication of how close we are\n",
    "        if test < tolerance:\n",
    "            print(\"hello\")\n",
    "            print('Max tolerance reached')\n",
    "            break\n",
    "        t+=1\n",
    "    print('number of itteration:',t)\n",
    "    \n",
    "    return x\n",
    "            \n",
    "        "
   ]
  },
  {
   "cell_type": "code",
   "execution_count": 67,
   "id": "9fd52289",
   "metadata": {},
   "outputs": [
    {
     "name": "stdout",
     "output_type": "stream",
     "text": [
      "[[ 4. -1.  1.]\n",
      " [-1.  4. -2.]\n",
      " [ 1. -2.  4.]]\n",
      "[12. -1.  5.]\n",
      "hello\n",
      "Max tolerance reached\n",
      "number of itteration: 12\n"
     ]
    },
    {
     "data": {
      "text/plain": [
       "array([3., 1., 1.])"
      ]
     },
     "execution_count": 67,
     "metadata": {},
     "output_type": "execute_result"
    }
   ],
   "source": [
    "a=np.array([[4.,-1.,1.],[-1.,4.,-2.],[1.,-2.,4.]])\n",
    "b=np.array([12.,-1.,5.])\n",
    "x = np.zeros(len(b))\n",
    "gauss_seidel(a,b,x)\n"
   ]
  },
  {
   "cell_type": "code",
   "execution_count": null,
   "id": "adf9fada",
   "metadata": {},
   "outputs": [],
   "source": []
  }
 ],
 "metadata": {
  "kernelspec": {
   "display_name": "Python 3 (ipykernel)",
   "language": "python",
   "name": "python3"
  },
  "language_info": {
   "codemirror_mode": {
    "name": "ipython",
    "version": 3
   },
   "file_extension": ".py",
   "mimetype": "text/x-python",
   "name": "python",
   "nbconvert_exporter": "python",
   "pygments_lexer": "ipython3",
   "version": "3.8.3"
  }
 },
 "nbformat": 4,
 "nbformat_minor": 5
}
